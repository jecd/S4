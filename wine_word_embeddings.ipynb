{
 "cells": [
  {
   "cell_type": "markdown",
   "metadata": {},
   "source": [
    "Libs"
   ]
  },
  {
   "cell_type": "code",
   "execution_count": 15,
   "metadata": {},
   "outputs": [],
   "source": [
    "import pandas as pd \n",
    "import psycopg2 \n",
    "import numpy as np\n",
    "from sklean import "
   ]
  },
  {
   "cell_type": "markdown",
   "metadata": {},
   "source": [
    "Open connection to db"
   ]
  },
  {
   "cell_type": "code",
   "execution_count": 6,
   "metadata": {},
   "outputs": [],
   "source": [
    "PGHOST=\"datafest201912.library.ucdavis.edu\"\n",
    "PGDATABASE=\"postgres\"\n",
    "PGPORT=\"49152\"\n",
    "PGUSER=\"anon\"\n",
    "PGPASSWORD=\"anon\"\n",
    "\n",
    "conn_string = (\"host={} port={} dbname={} user={} password={}\") \\\n",
    "        .format(PGHOST, PGPORT, PGDATABASE, PGUSER, PGPASSWORD)\n",
    "\n",
    "conn=psycopg2.connect(conn_string)"
   ]
  },
  {
   "cell_type": "markdown",
   "metadata": {},
   "source": [
    "Call to db"
   ]
  },
  {
   "cell_type": "code",
   "execution_count": 8,
   "metadata": {},
   "outputs": [],
   "source": [
    "sql_command = \"select page_ark, string_agg(text, '  ') from rtesseract_words group by page_ark;\"\n",
    "frame = pd.read_sql(sql_command, conn)\n",
    "texts = list(frame['string_agg'])"
   ]
  },
  {
   "cell_type": "code",
   "execution_count": 13,
   "metadata": {},
   "outputs": [
    {
     "data": {
      "text/plain": [
       "list"
      ]
     },
     "execution_count": 13,
     "metadata": {},
     "output_type": "execute_result"
    }
   ],
   "source": [
    "type(texts)"
   ]
  },
  {
   "cell_type": "code",
   "execution_count": 19,
   "metadata": {},
   "outputs": [
    {
     "data": {
      "text/plain": [
       "7365"
      ]
     },
     "execution_count": 19,
     "metadata": {},
     "output_type": "execute_result"
    }
   ],
   "source": [
    "len(texts)"
   ]
  },
  {
   "cell_type": "code",
   "execution_count": 18,
   "metadata": {},
   "outputs": [
    {
     "data": {
      "text/plain": [
       "'Federlein  2  SHERRY  WINE  AND  SPIRITS  CO.,  INC.  «  679  MADISON  AVENUE,  N.  21  Y.  «  TEmpleton  8-7500  q  the  in  wines  tan  fine  ni  ®  ar  en  ge  Here  vintage.  1952  fine  exceptionally  the  of  true  and  particularly  is  This  lost.  be  padi  their  else  sprightly,  and  fresh  still  are  they  while  yang,  drunk  be  should  wines  German  Most  No,  SALE!  ON  WINES  MOSELLE  &  RHINE  1952  GREAT  THE  l  :  Rhine  the  of  banks  the  along  restaurants  and  BE  .  3  runt  1  S  545  are  they  which  at  state  youthful  same  Moselle.  These  amazingly  low  sale  prices  are  only  made  possible  because  the  wines  were  purchased  591  iinmediately  after  the  harvest,  before  subsequent  high  reputation  achieved  by  this  vintage  forced  the  price  up  substantially.  Many  of  these  wines  regularly  sell  for  50%  higher.  We  suggest  that  you  anticipate  your  Spring  and  Summer  requirements  now  while  our  inventory  538  SO  permits  these  low  sale  prices.  RHINE  WINES  Regularly  Now  Now  No.  TT  Bottle  Case  523  B27  RHEINKELLER  LIEBFRAUMILCH  1952  1.49  1.09  12.  50  585  From  the  cellars  of  Gebrueder  Lob  i  536  DIENHEIMER  GOLDBERG  1952  1.85  1,29  14,  50  From  the  cellars  of  Gebrueder  Lob  526  565  NIERSTEINER  KAISERPFAD  1952  1.75  1.29  14,  50  From  the  cellars  of  L.  Altinger  2  B22  554  RUEDESHEIMER  KIESEL  1952  1.75  1.29  14,50  From  the  cellars  of  Gebrueder  Lob  551  HOCHHEIMER  DAUBHAUS  1952  2,00  1.  49  16,95  From  the  cellars  of  F.  Kreis  B79  he2  JOHANNISBERGER  SCHLOSSBERG  1952  2.00  1.49  16.  95  From  the  cellars  of  F.  Kreis  587  520  RUDESHEIMER  HAEUSERWEG  SPATLESE  1952  2.45  1.79  19,  95  From  the  cellars  of  Gebrueder  Lob  590  521  LIEBFRAUMILCH  SPATLESE  1952  2.45  )..13  16,95  From  the  cellars  of  L..  Altinger  F  55f  557  SCHLOSS  JOHANNISBERG  1952  (Fass  #604)  2.99  1.99  22.65  From  the  cellars  of  Prince  von  Metternich  50  599  SCHLOSS  JOHANNISBERG  SPATLESE  1952  (Fass  #217)  32.20  2.79  31.7%  From  the  cellars  of  Prince  von  Metternich  58  MOSELLE  WINES  yj.  5B}  540  ZELTINGER  SCHWARZLAY  1952  1.49  1.09  12.80  From  the  cellars  of  Dom  Kellerei  Patriarch  58  546  PIESPORTER  TAUBENGARTEN  1952  1.15  1.29  14.  50  From  the  cellars  of  Dom  Kellerei  Patriarch  57  516  GRAACHER  HIMMELREICH  1952  1.  85  1.29  14.50  From  the  cellars  of  I..  Federlein  4  518  UERZIGER  HERRGOTT  1952  1,85  }.  29  14,  50  4  From  the  cellars  of  L..  Federlein  549  BERNCASTELER  BRAUNES  1952  2.00  1.49  16.  95  From  the  cellars  of  L..'"
      ]
     },
     "execution_count": 18,
     "metadata": {},
     "output_type": "execute_result"
    }
   ],
   "source": [
    "texts[1]"
   ]
  }
 ],
 "metadata": {
  "kernelspec": {
   "display_name": "Python 3",
   "language": "python",
   "name": "python3"
  },
  "language_info": {
   "codemirror_mode": {
    "name": "ipython",
    "version": 3
   },
   "file_extension": ".py",
   "mimetype": "text/x-python",
   "name": "python",
   "nbconvert_exporter": "python",
   "pygments_lexer": "ipython3",
   "version": "3.6.8"
  }
 },
 "nbformat": 4,
 "nbformat_minor": 2
}
